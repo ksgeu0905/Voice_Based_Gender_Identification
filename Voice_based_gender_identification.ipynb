{
 "cells": [
  {
   "cell_type": "markdown",
   "id": "eb8b1d7c",
   "metadata": {},
   "source": [
    "##                                             VOICE BASED GENDER IDENTIFICATION"
   ]
  },
  {
   "cell_type": "markdown",
   "id": "1bddb693",
   "metadata": {},
   "source": [
    "### Importing the necessary libraries"
   ]
  },
  {
   "cell_type": "code",
   "execution_count": 59,
   "id": "6b0344e9",
   "metadata": {},
   "outputs": [],
   "source": [
    "import pandas as pd\n",
    "import numpy as np\n",
    "import matplotlib.pyplot as plt\n",
    "import seaborn as sns\n",
    "from sklearn.model_selection import train_test_split\n",
    "from sklearn.metrics import classification_report \n",
    "from sklearn.metrics import confusion_matrix"
   ]
  },
  {
   "cell_type": "markdown",
   "id": "2b62665d",
   "metadata": {},
   "source": [
    "### Reading the CSV File"
   ]
  },
  {
   "cell_type": "code",
   "execution_count": 60,
   "id": "72e7ded5",
   "metadata": {},
   "outputs": [],
   "source": [
    "df=pd.read_csv(\"voice.csv\")"
   ]
  },
  {
   "cell_type": "markdown",
   "id": "be6cf062",
   "metadata": {},
   "source": [
    "### How the Dataset Looks Like??"
   ]
  },
  {
   "cell_type": "code",
   "execution_count": 61,
   "id": "1c587767",
   "metadata": {},
   "outputs": [
    {
     "data": {
      "text/html": [
       "<div>\n",
       "<style scoped>\n",
       "    .dataframe tbody tr th:only-of-type {\n",
       "        vertical-align: middle;\n",
       "    }\n",
       "\n",
       "    .dataframe tbody tr th {\n",
       "        vertical-align: top;\n",
       "    }\n",
       "\n",
       "    .dataframe thead th {\n",
       "        text-align: right;\n",
       "    }\n",
       "</style>\n",
       "<table border=\"1\" class=\"dataframe\">\n",
       "  <thead>\n",
       "    <tr style=\"text-align: right;\">\n",
       "      <th></th>\n",
       "      <th>meanfreq</th>\n",
       "      <th>sd</th>\n",
       "      <th>median</th>\n",
       "      <th>Q25</th>\n",
       "      <th>Q75</th>\n",
       "      <th>IQR</th>\n",
       "      <th>skew</th>\n",
       "      <th>kurt</th>\n",
       "      <th>sp.ent</th>\n",
       "      <th>sfm</th>\n",
       "      <th>...</th>\n",
       "      <th>centroid</th>\n",
       "      <th>meanfun</th>\n",
       "      <th>minfun</th>\n",
       "      <th>maxfun</th>\n",
       "      <th>meandom</th>\n",
       "      <th>mindom</th>\n",
       "      <th>maxdom</th>\n",
       "      <th>dfrange</th>\n",
       "      <th>modindx</th>\n",
       "      <th>label</th>\n",
       "    </tr>\n",
       "  </thead>\n",
       "  <tbody>\n",
       "    <tr>\n",
       "      <th>0</th>\n",
       "      <td>0.059781</td>\n",
       "      <td>0.064241</td>\n",
       "      <td>0.032027</td>\n",
       "      <td>0.015071</td>\n",
       "      <td>0.090193</td>\n",
       "      <td>0.075122</td>\n",
       "      <td>12.863462</td>\n",
       "      <td>274.402906</td>\n",
       "      <td>0.893369</td>\n",
       "      <td>0.491918</td>\n",
       "      <td>...</td>\n",
       "      <td>0.059781</td>\n",
       "      <td>0.084279</td>\n",
       "      <td>0.015702</td>\n",
       "      <td>0.275862</td>\n",
       "      <td>0.007812</td>\n",
       "      <td>0.007812</td>\n",
       "      <td>0.007812</td>\n",
       "      <td>0.000000</td>\n",
       "      <td>0.000000</td>\n",
       "      <td>male</td>\n",
       "    </tr>\n",
       "    <tr>\n",
       "      <th>1</th>\n",
       "      <td>0.066009</td>\n",
       "      <td>0.067310</td>\n",
       "      <td>0.040229</td>\n",
       "      <td>0.019414</td>\n",
       "      <td>0.092666</td>\n",
       "      <td>0.073252</td>\n",
       "      <td>22.423285</td>\n",
       "      <td>634.613855</td>\n",
       "      <td>0.892193</td>\n",
       "      <td>0.513724</td>\n",
       "      <td>...</td>\n",
       "      <td>0.066009</td>\n",
       "      <td>0.107937</td>\n",
       "      <td>0.015826</td>\n",
       "      <td>0.250000</td>\n",
       "      <td>0.009014</td>\n",
       "      <td>0.007812</td>\n",
       "      <td>0.054688</td>\n",
       "      <td>0.046875</td>\n",
       "      <td>0.052632</td>\n",
       "      <td>male</td>\n",
       "    </tr>\n",
       "    <tr>\n",
       "      <th>2</th>\n",
       "      <td>0.077316</td>\n",
       "      <td>0.083829</td>\n",
       "      <td>0.036718</td>\n",
       "      <td>0.008701</td>\n",
       "      <td>0.131908</td>\n",
       "      <td>0.123207</td>\n",
       "      <td>30.757155</td>\n",
       "      <td>1024.927705</td>\n",
       "      <td>0.846389</td>\n",
       "      <td>0.478905</td>\n",
       "      <td>...</td>\n",
       "      <td>0.077316</td>\n",
       "      <td>0.098706</td>\n",
       "      <td>0.015656</td>\n",
       "      <td>0.271186</td>\n",
       "      <td>0.007990</td>\n",
       "      <td>0.007812</td>\n",
       "      <td>0.015625</td>\n",
       "      <td>0.007812</td>\n",
       "      <td>0.046512</td>\n",
       "      <td>male</td>\n",
       "    </tr>\n",
       "    <tr>\n",
       "      <th>3</th>\n",
       "      <td>0.151228</td>\n",
       "      <td>0.072111</td>\n",
       "      <td>0.158011</td>\n",
       "      <td>0.096582</td>\n",
       "      <td>0.207955</td>\n",
       "      <td>0.111374</td>\n",
       "      <td>1.232831</td>\n",
       "      <td>4.177296</td>\n",
       "      <td>0.963322</td>\n",
       "      <td>0.727232</td>\n",
       "      <td>...</td>\n",
       "      <td>0.151228</td>\n",
       "      <td>0.088965</td>\n",
       "      <td>0.017798</td>\n",
       "      <td>0.250000</td>\n",
       "      <td>0.201497</td>\n",
       "      <td>0.007812</td>\n",
       "      <td>0.562500</td>\n",
       "      <td>0.554688</td>\n",
       "      <td>0.247119</td>\n",
       "      <td>male</td>\n",
       "    </tr>\n",
       "    <tr>\n",
       "      <th>4</th>\n",
       "      <td>0.135120</td>\n",
       "      <td>0.079146</td>\n",
       "      <td>0.124656</td>\n",
       "      <td>0.078720</td>\n",
       "      <td>0.206045</td>\n",
       "      <td>0.127325</td>\n",
       "      <td>1.101174</td>\n",
       "      <td>4.333713</td>\n",
       "      <td>0.971955</td>\n",
       "      <td>0.783568</td>\n",
       "      <td>...</td>\n",
       "      <td>0.135120</td>\n",
       "      <td>0.106398</td>\n",
       "      <td>0.016931</td>\n",
       "      <td>0.266667</td>\n",
       "      <td>0.712812</td>\n",
       "      <td>0.007812</td>\n",
       "      <td>5.484375</td>\n",
       "      <td>5.476562</td>\n",
       "      <td>0.208274</td>\n",
       "      <td>male</td>\n",
       "    </tr>\n",
       "    <tr>\n",
       "      <th>...</th>\n",
       "      <td>...</td>\n",
       "      <td>...</td>\n",
       "      <td>...</td>\n",
       "      <td>...</td>\n",
       "      <td>...</td>\n",
       "      <td>...</td>\n",
       "      <td>...</td>\n",
       "      <td>...</td>\n",
       "      <td>...</td>\n",
       "      <td>...</td>\n",
       "      <td>...</td>\n",
       "      <td>...</td>\n",
       "      <td>...</td>\n",
       "      <td>...</td>\n",
       "      <td>...</td>\n",
       "      <td>...</td>\n",
       "      <td>...</td>\n",
       "      <td>...</td>\n",
       "      <td>...</td>\n",
       "      <td>...</td>\n",
       "      <td>...</td>\n",
       "    </tr>\n",
       "    <tr>\n",
       "      <th>3163</th>\n",
       "      <td>0.131884</td>\n",
       "      <td>0.084734</td>\n",
       "      <td>0.153707</td>\n",
       "      <td>0.049285</td>\n",
       "      <td>0.201144</td>\n",
       "      <td>0.151859</td>\n",
       "      <td>1.762129</td>\n",
       "      <td>6.630383</td>\n",
       "      <td>0.962934</td>\n",
       "      <td>0.763182</td>\n",
       "      <td>...</td>\n",
       "      <td>0.131884</td>\n",
       "      <td>0.182790</td>\n",
       "      <td>0.083770</td>\n",
       "      <td>0.262295</td>\n",
       "      <td>0.832899</td>\n",
       "      <td>0.007812</td>\n",
       "      <td>4.210938</td>\n",
       "      <td>4.203125</td>\n",
       "      <td>0.161929</td>\n",
       "      <td>female</td>\n",
       "    </tr>\n",
       "    <tr>\n",
       "      <th>3164</th>\n",
       "      <td>0.116221</td>\n",
       "      <td>0.089221</td>\n",
       "      <td>0.076758</td>\n",
       "      <td>0.042718</td>\n",
       "      <td>0.204911</td>\n",
       "      <td>0.162193</td>\n",
       "      <td>0.693730</td>\n",
       "      <td>2.503954</td>\n",
       "      <td>0.960716</td>\n",
       "      <td>0.709570</td>\n",
       "      <td>...</td>\n",
       "      <td>0.116221</td>\n",
       "      <td>0.188980</td>\n",
       "      <td>0.034409</td>\n",
       "      <td>0.275862</td>\n",
       "      <td>0.909856</td>\n",
       "      <td>0.039062</td>\n",
       "      <td>3.679688</td>\n",
       "      <td>3.640625</td>\n",
       "      <td>0.277897</td>\n",
       "      <td>female</td>\n",
       "    </tr>\n",
       "    <tr>\n",
       "      <th>3165</th>\n",
       "      <td>0.142056</td>\n",
       "      <td>0.095798</td>\n",
       "      <td>0.183731</td>\n",
       "      <td>0.033424</td>\n",
       "      <td>0.224360</td>\n",
       "      <td>0.190936</td>\n",
       "      <td>1.876502</td>\n",
       "      <td>6.604509</td>\n",
       "      <td>0.946854</td>\n",
       "      <td>0.654196</td>\n",
       "      <td>...</td>\n",
       "      <td>0.142056</td>\n",
       "      <td>0.209918</td>\n",
       "      <td>0.039506</td>\n",
       "      <td>0.275862</td>\n",
       "      <td>0.494271</td>\n",
       "      <td>0.007812</td>\n",
       "      <td>2.937500</td>\n",
       "      <td>2.929688</td>\n",
       "      <td>0.194759</td>\n",
       "      <td>female</td>\n",
       "    </tr>\n",
       "    <tr>\n",
       "      <th>3166</th>\n",
       "      <td>0.143659</td>\n",
       "      <td>0.090628</td>\n",
       "      <td>0.184976</td>\n",
       "      <td>0.043508</td>\n",
       "      <td>0.219943</td>\n",
       "      <td>0.176435</td>\n",
       "      <td>1.591065</td>\n",
       "      <td>5.388298</td>\n",
       "      <td>0.950436</td>\n",
       "      <td>0.675470</td>\n",
       "      <td>...</td>\n",
       "      <td>0.143659</td>\n",
       "      <td>0.172375</td>\n",
       "      <td>0.034483</td>\n",
       "      <td>0.250000</td>\n",
       "      <td>0.791360</td>\n",
       "      <td>0.007812</td>\n",
       "      <td>3.593750</td>\n",
       "      <td>3.585938</td>\n",
       "      <td>0.311002</td>\n",
       "      <td>female</td>\n",
       "    </tr>\n",
       "    <tr>\n",
       "      <th>3167</th>\n",
       "      <td>0.165509</td>\n",
       "      <td>0.092884</td>\n",
       "      <td>0.183044</td>\n",
       "      <td>0.070072</td>\n",
       "      <td>0.250827</td>\n",
       "      <td>0.180756</td>\n",
       "      <td>1.705029</td>\n",
       "      <td>5.769115</td>\n",
       "      <td>0.938829</td>\n",
       "      <td>0.601529</td>\n",
       "      <td>...</td>\n",
       "      <td>0.165509</td>\n",
       "      <td>0.185607</td>\n",
       "      <td>0.062257</td>\n",
       "      <td>0.271186</td>\n",
       "      <td>0.227022</td>\n",
       "      <td>0.007812</td>\n",
       "      <td>0.554688</td>\n",
       "      <td>0.546875</td>\n",
       "      <td>0.350000</td>\n",
       "      <td>female</td>\n",
       "    </tr>\n",
       "  </tbody>\n",
       "</table>\n",
       "<p>3168 rows × 21 columns</p>\n",
       "</div>"
      ],
      "text/plain": [
       "      meanfreq        sd    median       Q25       Q75       IQR       skew  \\\n",
       "0     0.059781  0.064241  0.032027  0.015071  0.090193  0.075122  12.863462   \n",
       "1     0.066009  0.067310  0.040229  0.019414  0.092666  0.073252  22.423285   \n",
       "2     0.077316  0.083829  0.036718  0.008701  0.131908  0.123207  30.757155   \n",
       "3     0.151228  0.072111  0.158011  0.096582  0.207955  0.111374   1.232831   \n",
       "4     0.135120  0.079146  0.124656  0.078720  0.206045  0.127325   1.101174   \n",
       "...        ...       ...       ...       ...       ...       ...        ...   \n",
       "3163  0.131884  0.084734  0.153707  0.049285  0.201144  0.151859   1.762129   \n",
       "3164  0.116221  0.089221  0.076758  0.042718  0.204911  0.162193   0.693730   \n",
       "3165  0.142056  0.095798  0.183731  0.033424  0.224360  0.190936   1.876502   \n",
       "3166  0.143659  0.090628  0.184976  0.043508  0.219943  0.176435   1.591065   \n",
       "3167  0.165509  0.092884  0.183044  0.070072  0.250827  0.180756   1.705029   \n",
       "\n",
       "             kurt    sp.ent       sfm  ...  centroid   meanfun    minfun  \\\n",
       "0      274.402906  0.893369  0.491918  ...  0.059781  0.084279  0.015702   \n",
       "1      634.613855  0.892193  0.513724  ...  0.066009  0.107937  0.015826   \n",
       "2     1024.927705  0.846389  0.478905  ...  0.077316  0.098706  0.015656   \n",
       "3        4.177296  0.963322  0.727232  ...  0.151228  0.088965  0.017798   \n",
       "4        4.333713  0.971955  0.783568  ...  0.135120  0.106398  0.016931   \n",
       "...           ...       ...       ...  ...       ...       ...       ...   \n",
       "3163     6.630383  0.962934  0.763182  ...  0.131884  0.182790  0.083770   \n",
       "3164     2.503954  0.960716  0.709570  ...  0.116221  0.188980  0.034409   \n",
       "3165     6.604509  0.946854  0.654196  ...  0.142056  0.209918  0.039506   \n",
       "3166     5.388298  0.950436  0.675470  ...  0.143659  0.172375  0.034483   \n",
       "3167     5.769115  0.938829  0.601529  ...  0.165509  0.185607  0.062257   \n",
       "\n",
       "        maxfun   meandom    mindom    maxdom   dfrange   modindx   label  \n",
       "0     0.275862  0.007812  0.007812  0.007812  0.000000  0.000000    male  \n",
       "1     0.250000  0.009014  0.007812  0.054688  0.046875  0.052632    male  \n",
       "2     0.271186  0.007990  0.007812  0.015625  0.007812  0.046512    male  \n",
       "3     0.250000  0.201497  0.007812  0.562500  0.554688  0.247119    male  \n",
       "4     0.266667  0.712812  0.007812  5.484375  5.476562  0.208274    male  \n",
       "...        ...       ...       ...       ...       ...       ...     ...  \n",
       "3163  0.262295  0.832899  0.007812  4.210938  4.203125  0.161929  female  \n",
       "3164  0.275862  0.909856  0.039062  3.679688  3.640625  0.277897  female  \n",
       "3165  0.275862  0.494271  0.007812  2.937500  2.929688  0.194759  female  \n",
       "3166  0.250000  0.791360  0.007812  3.593750  3.585938  0.311002  female  \n",
       "3167  0.271186  0.227022  0.007812  0.554688  0.546875  0.350000  female  \n",
       "\n",
       "[3168 rows x 21 columns]"
      ]
     },
     "execution_count": 61,
     "metadata": {},
     "output_type": "execute_result"
    }
   ],
   "source": [
    "df"
   ]
  },
  {
   "cell_type": "code",
   "execution_count": 62,
   "id": "bc5db889",
   "metadata": {},
   "outputs": [
    {
     "data": {
      "text/plain": [
       "(3168, 21)"
      ]
     },
     "execution_count": 62,
     "metadata": {},
     "output_type": "execute_result"
    }
   ],
   "source": [
    "df.shape"
   ]
  },
  {
   "cell_type": "code",
   "execution_count": 63,
   "id": "7d17a282",
   "metadata": {},
   "outputs": [
    {
     "name": "stdout",
     "output_type": "stream",
     "text": [
      "Index(['meanfreq', 'sd', 'median', 'Q25', 'Q75', 'IQR', 'skew', 'kurt',\n",
      "       'sp.ent', 'sfm', 'mode', 'centroid', 'meanfun', 'minfun', 'maxfun',\n",
      "       'meandom', 'mindom', 'maxdom', 'dfrange', 'modindx', 'label'],\n",
      "      dtype='object')\n"
     ]
    }
   ],
   "source": [
    "print(df.columns)"
   ]
  },
  {
   "cell_type": "code",
   "execution_count": 64,
   "id": "9a60cd05",
   "metadata": {},
   "outputs": [
    {
     "data": {
      "text/plain": [
       "meanfreq    0\n",
       "sd          0\n",
       "median      0\n",
       "Q25         0\n",
       "Q75         0\n",
       "IQR         0\n",
       "skew        0\n",
       "kurt        0\n",
       "sp.ent      0\n",
       "sfm         0\n",
       "mode        0\n",
       "centroid    0\n",
       "meanfun     0\n",
       "minfun      0\n",
       "maxfun      0\n",
       "meandom     0\n",
       "mindom      0\n",
       "maxdom      0\n",
       "dfrange     0\n",
       "modindx     0\n",
       "label       0\n",
       "dtype: int64"
      ]
     },
     "execution_count": 64,
     "metadata": {},
     "output_type": "execute_result"
    }
   ],
   "source": [
    "df.isnull().sum()"
   ]
  },
  {
   "cell_type": "code",
   "execution_count": 65,
   "id": "f27a554c",
   "metadata": {},
   "outputs": [
    {
     "name": "stdout",
     "output_type": "stream",
     "text": [
      "<class 'pandas.core.frame.DataFrame'>\n",
      "RangeIndex: 3168 entries, 0 to 3167\n",
      "Data columns (total 21 columns):\n",
      " #   Column    Non-Null Count  Dtype  \n",
      "---  ------    --------------  -----  \n",
      " 0   meanfreq  3168 non-null   float64\n",
      " 1   sd        3168 non-null   float64\n",
      " 2   median    3168 non-null   float64\n",
      " 3   Q25       3168 non-null   float64\n",
      " 4   Q75       3168 non-null   float64\n",
      " 5   IQR       3168 non-null   float64\n",
      " 6   skew      3168 non-null   float64\n",
      " 7   kurt      3168 non-null   float64\n",
      " 8   sp.ent    3168 non-null   float64\n",
      " 9   sfm       3168 non-null   float64\n",
      " 10  mode      3168 non-null   float64\n",
      " 11  centroid  3168 non-null   float64\n",
      " 12  meanfun   3168 non-null   float64\n",
      " 13  minfun    3168 non-null   float64\n",
      " 14  maxfun    3168 non-null   float64\n",
      " 15  meandom   3168 non-null   float64\n",
      " 16  mindom    3168 non-null   float64\n",
      " 17  maxdom    3168 non-null   float64\n",
      " 18  dfrange   3168 non-null   float64\n",
      " 19  modindx   3168 non-null   float64\n",
      " 20  label     3168 non-null   object \n",
      "dtypes: float64(20), object(1)\n",
      "memory usage: 519.9+ KB\n"
     ]
    }
   ],
   "source": [
    "df.info()"
   ]
  },
  {
   "cell_type": "code",
   "execution_count": 66,
   "id": "02880bc7",
   "metadata": {},
   "outputs": [
    {
     "name": "stdout",
     "output_type": "stream",
     "text": [
      "male      1584\n",
      "female    1584\n",
      "Name: label, dtype: int64\n",
      "Total:  3168\n"
     ]
    }
   ],
   "source": [
    "a=df.label.value_counts()\n",
    "print(a)\n",
    "print(\"Total: \",df.label.count())"
   ]
  },
  {
   "cell_type": "markdown",
   "id": "1213f6a7",
   "metadata": {},
   "source": [
    "### Defining labels 1 for female and 0 for male"
   ]
  },
  {
   "cell_type": "code",
   "execution_count": 67,
   "id": "64514fcb",
   "metadata": {},
   "outputs": [],
   "source": [
    "df.label=[1 if each == 'female' else 0 for each in df.label]"
   ]
  },
  {
   "cell_type": "code",
   "execution_count": 68,
   "id": "b2ce51a1",
   "metadata": {},
   "outputs": [
    {
     "data": {
      "text/plain": [
       "0       0\n",
       "1       0\n",
       "2       0\n",
       "3       0\n",
       "4       0\n",
       "       ..\n",
       "3163    1\n",
       "3164    1\n",
       "3165    1\n",
       "3166    1\n",
       "3167    1\n",
       "Name: label, Length: 3168, dtype: int64"
      ]
     },
     "execution_count": 68,
     "metadata": {},
     "output_type": "execute_result"
    }
   ],
   "source": [
    "df.label"
   ]
  },
  {
   "cell_type": "markdown",
   "id": "d1d2828b",
   "metadata": {},
   "source": [
    "### Separating the Dependent and Independent variables"
   ]
  },
  {
   "cell_type": "code",
   "execution_count": 69,
   "id": "311e4036",
   "metadata": {},
   "outputs": [],
   "source": [
    "y=df.label.values"
   ]
  },
  {
   "cell_type": "code",
   "execution_count": 70,
   "id": "1c435bff",
   "metadata": {},
   "outputs": [],
   "source": [
    "x=df.drop(['label'],axis='columns')"
   ]
  },
  {
   "cell_type": "markdown",
   "id": "a77ae60e",
   "metadata": {},
   "source": [
    "### Spliting Dataset into train and test data"
   ]
  },
  {
   "cell_type": "code",
   "execution_count": 71,
   "id": "32a4fa86",
   "metadata": {},
   "outputs": [],
   "source": [
    "x_train,x_test,y_train,y_test=train_test_split(x,y,test_size=0.2,random_state=50)\n",
    "algo_names=[]\n",
    "algo_scores=[]"
   ]
  },
  {
   "cell_type": "code",
   "execution_count": 72,
   "id": "da4117f3",
   "metadata": {},
   "outputs": [
    {
     "data": {
      "text/plain": [
       "(2534, 20)"
      ]
     },
     "execution_count": 72,
     "metadata": {},
     "output_type": "execute_result"
    }
   ],
   "source": [
    "x_train.shape"
   ]
  },
  {
   "cell_type": "code",
   "execution_count": 73,
   "id": "abf7f72e",
   "metadata": {},
   "outputs": [
    {
     "data": {
      "text/html": [
       "<div>\n",
       "<style scoped>\n",
       "    .dataframe tbody tr th:only-of-type {\n",
       "        vertical-align: middle;\n",
       "    }\n",
       "\n",
       "    .dataframe tbody tr th {\n",
       "        vertical-align: top;\n",
       "    }\n",
       "\n",
       "    .dataframe thead th {\n",
       "        text-align: right;\n",
       "    }\n",
       "</style>\n",
       "<table border=\"1\" class=\"dataframe\">\n",
       "  <thead>\n",
       "    <tr style=\"text-align: right;\">\n",
       "      <th></th>\n",
       "      <th>meanfreq</th>\n",
       "      <th>sd</th>\n",
       "      <th>median</th>\n",
       "      <th>Q25</th>\n",
       "      <th>Q75</th>\n",
       "      <th>IQR</th>\n",
       "      <th>skew</th>\n",
       "      <th>kurt</th>\n",
       "      <th>sp.ent</th>\n",
       "      <th>sfm</th>\n",
       "      <th>mode</th>\n",
       "      <th>centroid</th>\n",
       "      <th>meanfun</th>\n",
       "      <th>minfun</th>\n",
       "      <th>maxfun</th>\n",
       "      <th>meandom</th>\n",
       "      <th>mindom</th>\n",
       "      <th>maxdom</th>\n",
       "      <th>dfrange</th>\n",
       "      <th>modindx</th>\n",
       "    </tr>\n",
       "  </thead>\n",
       "  <tbody>\n",
       "    <tr>\n",
       "      <th>974</th>\n",
       "      <td>0.188291</td>\n",
       "      <td>0.060757</td>\n",
       "      <td>0.196792</td>\n",
       "      <td>0.128553</td>\n",
       "      <td>0.243459</td>\n",
       "      <td>0.114906</td>\n",
       "      <td>1.924342</td>\n",
       "      <td>6.921315</td>\n",
       "      <td>0.898536</td>\n",
       "      <td>0.359334</td>\n",
       "      <td>0.117107</td>\n",
       "      <td>0.188291</td>\n",
       "      <td>0.130205</td>\n",
       "      <td>0.048096</td>\n",
       "      <td>0.274286</td>\n",
       "      <td>1.341518</td>\n",
       "      <td>0.023438</td>\n",
       "      <td>5.414062</td>\n",
       "      <td>5.390625</td>\n",
       "      <td>0.112298</td>\n",
       "    </tr>\n",
       "    <tr>\n",
       "      <th>2769</th>\n",
       "      <td>0.187396</td>\n",
       "      <td>0.044700</td>\n",
       "      <td>0.185598</td>\n",
       "      <td>0.171349</td>\n",
       "      <td>0.206260</td>\n",
       "      <td>0.034911</td>\n",
       "      <td>2.454544</td>\n",
       "      <td>9.671798</td>\n",
       "      <td>0.878222</td>\n",
       "      <td>0.354332</td>\n",
       "      <td>0.174198</td>\n",
       "      <td>0.187396</td>\n",
       "      <td>0.155880</td>\n",
       "      <td>0.048534</td>\n",
       "      <td>0.277457</td>\n",
       "      <td>1.388672</td>\n",
       "      <td>0.023438</td>\n",
       "      <td>6.609375</td>\n",
       "      <td>6.585938</td>\n",
       "      <td>0.109103</td>\n",
       "    </tr>\n",
       "    <tr>\n",
       "      <th>1805</th>\n",
       "      <td>0.177266</td>\n",
       "      <td>0.033878</td>\n",
       "      <td>0.175619</td>\n",
       "      <td>0.166018</td>\n",
       "      <td>0.188938</td>\n",
       "      <td>0.022920</td>\n",
       "      <td>3.261121</td>\n",
       "      <td>14.297520</td>\n",
       "      <td>0.816742</td>\n",
       "      <td>0.226999</td>\n",
       "      <td>0.164469</td>\n",
       "      <td>0.177266</td>\n",
       "      <td>0.164342</td>\n",
       "      <td>0.020833</td>\n",
       "      <td>0.250000</td>\n",
       "      <td>0.596128</td>\n",
       "      <td>0.078125</td>\n",
       "      <td>6.203125</td>\n",
       "      <td>6.125000</td>\n",
       "      <td>0.146104</td>\n",
       "    </tr>\n",
       "    <tr>\n",
       "      <th>175</th>\n",
       "      <td>0.134962</td>\n",
       "      <td>0.062047</td>\n",
       "      <td>0.111388</td>\n",
       "      <td>0.088780</td>\n",
       "      <td>0.189571</td>\n",
       "      <td>0.100791</td>\n",
       "      <td>2.317095</td>\n",
       "      <td>9.072179</td>\n",
       "      <td>0.931091</td>\n",
       "      <td>0.560896</td>\n",
       "      <td>0.104794</td>\n",
       "      <td>0.134962</td>\n",
       "      <td>0.086565</td>\n",
       "      <td>0.016277</td>\n",
       "      <td>0.275862</td>\n",
       "      <td>0.329346</td>\n",
       "      <td>0.007812</td>\n",
       "      <td>4.265625</td>\n",
       "      <td>4.257812</td>\n",
       "      <td>0.132783</td>\n",
       "    </tr>\n",
       "    <tr>\n",
       "      <th>1919</th>\n",
       "      <td>0.097562</td>\n",
       "      <td>0.070847</td>\n",
       "      <td>0.071001</td>\n",
       "      <td>0.038766</td>\n",
       "      <td>0.158224</td>\n",
       "      <td>0.119458</td>\n",
       "      <td>1.430850</td>\n",
       "      <td>4.652448</td>\n",
       "      <td>0.952220</td>\n",
       "      <td>0.664712</td>\n",
       "      <td>0.038555</td>\n",
       "      <td>0.097562</td>\n",
       "      <td>0.148914</td>\n",
       "      <td>0.019851</td>\n",
       "      <td>0.222222</td>\n",
       "      <td>0.255774</td>\n",
       "      <td>0.007812</td>\n",
       "      <td>0.640625</td>\n",
       "      <td>0.632812</td>\n",
       "      <td>0.305836</td>\n",
       "    </tr>\n",
       "  </tbody>\n",
       "</table>\n",
       "</div>"
      ],
      "text/plain": [
       "      meanfreq        sd    median       Q25       Q75       IQR      skew  \\\n",
       "974   0.188291  0.060757  0.196792  0.128553  0.243459  0.114906  1.924342   \n",
       "2769  0.187396  0.044700  0.185598  0.171349  0.206260  0.034911  2.454544   \n",
       "1805  0.177266  0.033878  0.175619  0.166018  0.188938  0.022920  3.261121   \n",
       "175   0.134962  0.062047  0.111388  0.088780  0.189571  0.100791  2.317095   \n",
       "1919  0.097562  0.070847  0.071001  0.038766  0.158224  0.119458  1.430850   \n",
       "\n",
       "           kurt    sp.ent       sfm      mode  centroid   meanfun    minfun  \\\n",
       "974    6.921315  0.898536  0.359334  0.117107  0.188291  0.130205  0.048096   \n",
       "2769   9.671798  0.878222  0.354332  0.174198  0.187396  0.155880  0.048534   \n",
       "1805  14.297520  0.816742  0.226999  0.164469  0.177266  0.164342  0.020833   \n",
       "175    9.072179  0.931091  0.560896  0.104794  0.134962  0.086565  0.016277   \n",
       "1919   4.652448  0.952220  0.664712  0.038555  0.097562  0.148914  0.019851   \n",
       "\n",
       "        maxfun   meandom    mindom    maxdom   dfrange   modindx  \n",
       "974   0.274286  1.341518  0.023438  5.414062  5.390625  0.112298  \n",
       "2769  0.277457  1.388672  0.023438  6.609375  6.585938  0.109103  \n",
       "1805  0.250000  0.596128  0.078125  6.203125  6.125000  0.146104  \n",
       "175   0.275862  0.329346  0.007812  4.265625  4.257812  0.132783  \n",
       "1919  0.222222  0.255774  0.007812  0.640625  0.632812  0.305836  "
      ]
     },
     "execution_count": 73,
     "metadata": {},
     "output_type": "execute_result"
    }
   ],
   "source": [
    "x_train.head()"
   ]
  },
  {
   "cell_type": "markdown",
   "id": "57916c51",
   "metadata": {},
   "source": [
    "### Applying Decision Tree Model"
   ]
  },
  {
   "cell_type": "code",
   "execution_count": 74,
   "id": "5fc288ef",
   "metadata": {},
   "outputs": [
    {
     "name": "stdout",
     "output_type": "stream",
     "text": [
      "Decision Tree Classification Score:  0.9511041009463722\n"
     ]
    }
   ],
   "source": [
    "from sklearn.tree import DecisionTreeClassifier\n",
    "dec_tree=DecisionTreeClassifier(random_state = 50)\n",
    "dec_tree.fit(x_train,y_train)\n",
    "print(\"Decision Tree Classification Score: \",dec_tree.score(x_test,y_test))\n",
    "algo_names.append(\"Decision Tree\")\n",
    "algo_scores.append(dec_tree.score(x_test,y_test))\n",
    "p1=dec_tree.predict(x_test)"
   ]
  },
  {
   "cell_type": "markdown",
   "id": "5f5e19fe",
   "metadata": {},
   "source": [
    "### Applying Support Vector Machine Model"
   ]
  },
  {
   "cell_type": "code",
   "execution_count": 75,
   "id": "242da1a9",
   "metadata": {},
   "outputs": [
    {
     "name": "stdout",
     "output_type": "stream",
     "text": [
      "SVM Classification Score:  0.6750788643533123\n"
     ]
    }
   ],
   "source": [
    "from sklearn.svm import SVC\n",
    "svm=SVC(random_state=50)\n",
    "svm.fit(x_train,y_train)\n",
    "print(\"SVM Classification Score: \",format(svm.score(x_test,y_test)))\n",
    "algo_names.append(\"SVM\")\n",
    "algo_scores.append(svm.score(x_test,y_test))\n",
    "p2=svm.predict(x_test)"
   ]
  },
  {
   "cell_type": "markdown",
   "id": "5d72daf2",
   "metadata": {},
   "source": [
    "### Applying Random Forest Model"
   ]
  },
  {
   "cell_type": "code",
   "execution_count": 76,
   "id": "62694593",
   "metadata": {},
   "outputs": [
    {
     "name": "stdout",
     "output_type": "stream",
     "text": [
      "Random Forest Classification Score:  0.973186119873817\n"
     ]
    }
   ],
   "source": [
    "from sklearn.ensemble import RandomForestClassifier\n",
    "ran_forest=RandomForestClassifier(random_state=50)\n",
    "ran_forest.fit(x_train,y_train)\n",
    "print(\"Random Forest Classification Score: \",ran_forest.score(x_test,y_test))\n",
    "algo_names.append(\"Random Forest\")\n",
    "algo_scores.append(ran_forest.score(x_test,y_test))\n",
    "p3=ran_forest.predict(x_test)"
   ]
  },
  {
   "cell_type": "markdown",
   "id": "3c93250c",
   "metadata": {},
   "source": [
    "### Bar graph for Model vs Score"
   ]
  },
  {
   "cell_type": "code",
   "execution_count": 77,
   "id": "3c1a869b",
   "metadata": {},
   "outputs": [
    {
     "data": {
      "text/plain": [
       "Text(0, 0.5, 'Algorithm Score')"
      ]
     },
     "execution_count": 77,
     "metadata": {},
     "output_type": "execute_result"
    },
    {
     "data": {
      "image/png": "[encoded data removed]",
      "text/plain": [
       "<Figure size 864x720 with 1 Axes>"
      ]
     },
     "metadata": {
      "needs_background": "light"
     },
     "output_type": "display_data"
    }
   ],
   "source": [
    "plt.figure(figsize=(12,10))\n",
    "plt.ylim([0.60,1])\n",
    "plt.bar(algo_names,algo_scores,width=0.3,color=['green'])\n",
    "plt.xlabel(\"Algorithm name\")\n",
    "plt.ylabel(\"Algorithm Score\")"
   ]
  },
  {
   "cell_type": "code",
   "execution_count": 78,
   "id": "42886281",
   "metadata": {},
   "outputs": [
    {
     "data": {
      "text/plain": [
       "[0.9511041009463722, 0.6750788643533123, 0.973186119873817]"
      ]
     },
     "execution_count": 78,
     "metadata": {},
     "output_type": "execute_result"
    }
   ],
   "source": [
    "algo_scores"
   ]
  },
  {
   "cell_type": "code",
   "execution_count": 79,
   "id": "e637c816",
   "metadata": {},
   "outputs": [
    {
     "data": {
      "text/plain": [
       "['Decision Tree', 'SVM', 'Random Forest']"
      ]
     },
     "execution_count": 79,
     "metadata": {},
     "output_type": "execute_result"
    }
   ],
   "source": [
    "algo_names"
   ]
  },
  {
   "cell_type": "markdown",
   "id": "fce5428f",
   "metadata": {},
   "source": [
    "## PIE CHARTS FOR ALL MODELS"
   ]
  },
  {
   "cell_type": "markdown",
   "id": "6b8a1774",
   "metadata": {},
   "source": [
    "### Pie Chart for Decision Tree"
   ]
  },
  {
   "cell_type": "code",
   "execution_count": 120,
   "id": "c0e471c6",
   "metadata": {},
   "outputs": [
    {
     "data": {
      "image/png": "[encoded data removed]",
      "text/plain": [
       "<Figure size 432x288 with 1 Axes>"
      ]
     },
     "metadata": {},
     "output_type": "display_data"
    }
   ],
   "source": [
    "comp1=[31.7,602.3]\n",
    "l1=['predicted wrong','predicted correct']\n",
    "plt.pie(comp1,labels=l1,autopct='%0.1f%%',colors=['red','pink'])\n",
    "plt.title('Decision Tree Prediction')\n",
    "plt.show()"
   ]
  },
  {
   "cell_type": "markdown",
   "id": "3d4bfecb",
   "metadata": {},
   "source": [
    "### Pie Chart for SVM"
   ]
  },
  {
   "cell_type": "code",
   "execution_count": 121,
   "id": "ed352422",
   "metadata": {},
   "outputs": [
    {
     "data": {
      "image/png": "[encoded data removed]",
      "text/plain": [
       "<Figure size 432x288 with 1 Axes>"
      ]
     },
     "metadata": {},
     "output_type": "display_data"
    }
   ],
   "source": [
    "comp2=[171.18,462.82]\n",
    "l2=['predicted wrong','predicted correct']\n",
    "plt.pie(comp2,labels=l2,autopct='%0.1f%%',colors=['red','pink'])\n",
    "plt.title('SVM Prediction')\n",
    "plt.show()"
   ]
  },
  {
   "cell_type": "markdown",
   "id": "7fbdb121",
   "metadata": {},
   "source": [
    "### Pie Chart for Random Forest"
   ]
  },
  {
   "cell_type": "code",
   "execution_count": 122,
   "id": "a80f00ae",
   "metadata": {},
   "outputs": [
    {
     "data": {
      "image/png": "[encoded data removed]",
      "text/plain": [
       "<Figure size 432x288 with 1 Axes>"
      ]
     },
     "metadata": {},
     "output_type": "display_data"
    }
   ],
   "source": [
    "comp3=[12.68,621.32]\n",
    "l3=['predicted wrong','predicted correct']\n",
    "plt.pie(comp3,labels=l2,autopct='%0.1f%%',colors=['red','pink'])\n",
    "plt.title('Random Forest Prediction')\n",
    "plt.show()"
   ]
  },
  {
   "cell_type": "markdown",
   "id": "0c3c2fe0",
   "metadata": {},
   "source": [
    "### PLOTTING CONFUSION MATRIX USING SKLEARN.METRICS.CONFUSION_MATRIX AND HEATMAP OF SEABORN LIBRARY."
   ]
  },
  {
   "cell_type": "markdown",
   "id": "45c6d11b",
   "metadata": {},
   "source": [
    "#### DECISION TREE CONFUSION MATRIX"
   ]
  },
  {
   "cell_type": "code",
   "execution_count": 123,
   "id": "0a7bfda4",
   "metadata": {},
   "outputs": [
    {
     "data": {
      "image/png": "[encoded data removed]",
      "text/plain": [
       "<Figure size 432x432 with 2 Axes>"
      ]
     },
     "metadata": {
      "needs_background": "light"
     },
     "output_type": "display_data"
    }
   ],
   "source": [
    "conf_mat1=confusion_matrix(y_test,p1)\n",
    "plt.figure(figsize=(6,6))\n",
    "sns.heatmap(conf_mat1,annot=True,fmt='.0f')\n",
    "plt.ylabel(\"Actual\")\n",
    "plt.xlabel(\"Predicted\")\n",
    "plt.title(\"Decision Tree Confusion Matrix\")\n",
    "plt.show()"
   ]
  },
  {
   "cell_type": "markdown",
   "id": "0b034729",
   "metadata": {},
   "source": [
    "#### SVM CONFUSION MATRIX"
   ]
  },
  {
   "cell_type": "code",
   "execution_count": 124,
   "id": "1d2d9c2f",
   "metadata": {},
   "outputs": [
    {
     "data": {
      "image/png": "[encoded data removed]",
      "text/plain": [
       "<Figure size 432x432 with 2 Axes>"
      ]
     },
     "metadata": {
      "needs_background": "light"
     },
     "output_type": "display_data"
    }
   ],
   "source": [
    "conf_mat2=confusion_matrix(y_test,p2)\n",
    "plt.figure(figsize=(6,6))\n",
    "sns.heatmap(conf_mat2,annot=True,fmt='.0f')\n",
    "plt.ylabel(\"Actual\")\n",
    "plt.xlabel(\"Predicted\")\n",
    "plt.title(\"SVM Confusion Matrix\")\n",
    "plt.show()"
   ]
  },
  {
   "cell_type": "markdown",
   "id": "660b7957",
   "metadata": {},
   "source": [
    "#### Random Forest Confusion Matrix"
   ]
  },
  {
   "cell_type": "code",
   "execution_count": 125,
   "id": "abc0f441",
   "metadata": {},
   "outputs": [
    {
     "data": {
      "image/png": "[encoded data removed]",
      "text/plain": [
       "<Figure size 432x432 with 2 Axes>"
      ]
     },
     "metadata": {
      "needs_background": "light"
     },
     "output_type": "display_data"
    }
   ],
   "source": [
    "conf_mat3=confusion_matrix(y_test,p3)\n",
    "plt.figure(figsize=(6,6))\n",
    "sns.heatmap(conf_mat3,annot=True,fmt='.0f')\n",
    "plt.ylabel(\"Actual\")\n",
    "plt.xlabel(\"Predicted\")\n",
    "plt.title(\"Random Forest Confusion Matrix\")\n",
    "plt.show()"
   ]
  },
  {
   "cell_type": "markdown",
   "id": "d5f15ac4",
   "metadata": {},
   "source": [
    "\n",
    "###  PLOTTING ROC CURVE FOR DIFFERNENT MODELS"
   ]
  },
  {
   "cell_type": "markdown",
   "id": "aee17536",
   "metadata": {},
   "source": [
    "#### DECISION TREE ROC CURVE"
   ]
  },
  {
   "cell_type": "code",
   "execution_count": 126,
   "id": "279e039a",
   "metadata": {},
   "outputs": [
    {
     "data": {
      "image/png": "[encoded data removed]",
      "text/plain": [
       "<Figure size 432x288 with 1 Axes>"
      ]
     },
     "metadata": {
      "needs_background": "light"
     },
     "output_type": "display_data"
    },
    {
     "name": "stdout",
     "output_type": "stream",
     "text": [
      "Decision Tree AUC:  0.951115093588212\n"
     ]
    }
   ],
   "source": [
    "from sklearn.metrics import roc_curve,roc_auc_score,auc\n",
    "b=[]\n",
    "probs1=dec_tree.predict_proba(x_test)\n",
    "preds1=probs1[:,1]\n",
    "fpr1,tpr1,threshold1=roc_curve(y_test,preds1)\n",
    "roc_auc1=auc(fpr1,tpr1)\n",
    "plt.title(\"Receiver Operating CHaracteristics\")\n",
    "plt.plot(fpr1,tpr1,'b',label='AUC= %0.2f' % roc_auc1)\n",
    "plt.legend(loc='lower right')\n",
    "plt.plot([0,1],[0,1],'r--')\n",
    "plt.xlim([0,1])\n",
    "plt.ylim([0,1])\n",
    "plt.ylabel('True Positive Rate')\n",
    "plt.xlabel('False Positive Rate')\n",
    "plt.title(\"Decision Tree ROC Curve\")\n",
    "plt.show()\n",
    "b.append(roc_auc1)\n",
    "print(\"Decision Tree AUC: \",roc_auc_score(y_test,preds1))"
   ]
  },
  {
   "cell_type": "markdown",
   "id": "340e42d3",
   "metadata": {},
   "source": [
    "#### SVM ROC CURVE"
   ]
  },
  {
   "cell_type": "code",
   "execution_count": 127,
   "id": "78d12a84",
   "metadata": {},
   "outputs": [
    {
     "data": {
      "image/png": "[encoded data removed]",
      "text/plain": [
       "<Figure size 432x288 with 1 Axes>"
      ]
     },
     "metadata": {
      "needs_background": "light"
     },
     "output_type": "display_data"
    },
    {
     "name": "stdout",
     "output_type": "stream",
     "text": [
      "SVM AUC:  0.6784747112704103\n"
     ]
    }
   ],
   "source": [
    "fpr2,tpr2,threshold2=roc_curve(y_test,p2)\n",
    "roc_auc2=auc(fpr2,tpr2)\n",
    "plt.title(\"Receiver Operating Characteristics\")\n",
    "plt.plot(fpr2,tpr2,'b',label='AUC= %0.2f' % roc_auc2)\n",
    "plt.legend(loc='lower right')\n",
    "plt.plot([0,1],[0,1],'r--')\n",
    "plt.xlim([0,1])\n",
    "plt.ylim([0,1])\n",
    "plt.ylabel('True Positive Rate')\n",
    "plt.xlabel('False Positive Rate')\n",
    "plt.title(\"SVM ROC Curve\")\n",
    "plt.show()\n",
    "b.append(roc_auc2)\n",
    "print(\"SVM AUC: \",roc_auc_score(y_test,p2))"
   ]
  },
  {
   "cell_type": "markdown",
   "id": "8b1cda06",
   "metadata": {},
   "source": [
    "#### Random Forest ROC Curve"
   ]
  },
  {
   "cell_type": "code",
   "execution_count": 128,
   "id": "975c5d68",
   "metadata": {},
   "outputs": [
    {
     "data": {
      "image/png": "[encoded data removed]",
      "text/plain": [
       "<Figure size 432x288 with 1 Axes>"
      ]
     },
     "metadata": {
      "needs_background": "light"
     },
     "output_type": "display_data"
    },
    {
     "name": "stdout",
     "output_type": "stream",
     "text": [
      "Random Forest AUC:  0.9950766626841895\n"
     ]
    }
   ],
   "source": [
    "probs3=ran_forest.predict_proba(x_test)\n",
    "preds3=probs3[:,1]\n",
    "fpr3,tpr3,threshold3=roc_curve(y_test,preds3)\n",
    "roc_auc3=auc(fpr3,tpr3)\n",
    "plt.title(\"Receiver Operating Characteristics\")\n",
    "plt.plot(fpr3,tpr3,'b',label='AUC= %0.2f' % roc_auc3)\n",
    "plt.legend(loc='lower right')\n",
    "plt.plot([0,1],[0,1],'r--')\n",
    "plt.xlim([0,1])\n",
    "plt.ylim([0,1])\n",
    "plt.ylabel('True Positive Rate')\n",
    "plt.xlabel('False Positive Rate')\n",
    "plt.title(\"Random Forest ROC Curve\")\n",
    "plt.show()\n",
    "b.append(roc_auc3)\n",
    "print(\"Random Forest AUC: \",roc_auc_score(y_test,preds3))"
   ]
  },
  {
   "cell_type": "markdown",
   "id": "bc0c1c94",
   "metadata": {},
   "source": [
    "### COMPARING AREA UNDER CURVE FOR ALL MODELS USING LINE GRAPH"
   ]
  },
  {
   "cell_type": "code",
   "execution_count": 129,
   "id": "8c281824",
   "metadata": {},
   "outputs": [
    {
     "data": {
      "image/png": "[encoded data removed]",
      "text/plain": [
       "<Figure size 432x288 with 1 Axes>"
      ]
     },
     "metadata": {
      "needs_background": "light"
     },
     "output_type": "display_data"
    }
   ],
   "source": [
    "a=[\"Decision Tree\",\"SVM\",\"Random Forest\"]\n",
    "plt.plot(a,b,color='red')\n",
    "plt.title('AUC of all Models')\n",
    "plt.xlabel('Model')\n",
    "plt.ylabel('AUC Score')\n",
    "plt.show()"
   ]
  },
  {
   "cell_type": "markdown",
   "id": "62e448c5",
   "metadata": {},
   "source": [
    "# CONCLUSION !!\n"
   ]
  },
  {
   "cell_type": "markdown",
   "id": "61bb0c60",
   "metadata": {},
   "source": [
    "## BASED ON THE PRECISION, F-1 SCORE , RECALL VALUES, PREDICTION CHART,ACCURACY SCORE,CONFUSION MATRIX, ROC CURVE AND AUC LINE GRAPH, WE CAN SAY THAT RANDOM FOREST CLASSIFICATION IS BEST SUITED FOR THIS PROBLEM WHERE WE ARE PREDICTING THE PERSON AS MALE/FEMALE BASED UPON THEIR VOCAL SIGNALS, SVM IS LEAST SUITABLE BASED ON SAME ANALYSIS"
   ]
  },
  {
   "cell_type": "code",
   "execution_count": 156,
   "id": "d0d10fae",
   "metadata": {},
   "outputs": [
    {
     "name": "stdout",
     "output_type": "stream",
     "text": [
      "The Given Voice data is of Female\n"
     ]
    }
   ],
   "source": [
    "import random\n",
    "l=[]\n",
    "for i in range(0,20):\n",
    "    n = random.random()\n",
    "    l.append(n)\n",
    "arr3=np.array([l])\n",
    "pred3=ran_forest.predict(arr3)\n",
    "if pred3[0]==0:\n",
    "    print(\"The Given Voice data is of male\")\n",
    "else :\n",
    "    print(\"The Given Voice data is of Female\")"
   ]
  },
  {
   "cell_type": "code",
   "execution_count": 143,
   "id": "9df6a7b8",
   "metadata": {},
   "outputs": [
    {
     "name": "stdout",
     "output_type": "stream",
     "text": [
      "Enter mean frequency0.23256\n",
      "The Given Voice data is of male\n"
     ]
    }
   ],
   "source": [
    "freq=float(input(\"Enter mean frequency\"))\n",
    "\n",
    "arr=np.array([[freq,0.059781,0.064241,0.032027,0.015071,0.090193,0.075122,12.863462,274.402906,0.893369,0.491916,0.059781,0.084279,0.015702,0.275862,0.007812,0.007812,0.007812,0.000000,0.000000]])\n",
    "pred=ran_forest.predict(arr)\n",
    "if pred[0]==0:\n",
    "    print(\"The Given Voice data is of male\")\n",
    "else :\n",
    "    print(\"The Given Voice data is of Female\")"
   ]
  },
  {
   "cell_type": "code",
   "execution_count": null,
   "id": "07a1f67f",
   "metadata": {},
   "outputs": [],
   "source": [
    "\n"
   ]
  }
 ],
 "metadata": {
  "kernelspec": {
   "display_name": "Python 3",
   "language": "python",
   "name": "python3"
  },
  "language_info": {
   "codemirror_mode": {
    "name": "ipython",
    "version": 3
   },
   "file_extension": ".py",
   "mimetype": "text/x-python",
   "name": "python",
   "nbconvert_exporter": "python",
   "pygments_lexer": "ipython3",
   "version": "3.8.8"
  }
 },
 "nbformat": 4,
 "nbformat_minor": 5
}
